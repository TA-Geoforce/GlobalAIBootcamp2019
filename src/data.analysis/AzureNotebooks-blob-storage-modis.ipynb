{
 "cells": [
  {
   "cell_type": "markdown",
   "metadata": {},
   "source": [
    "## Demo notebook for accessing MODIS data on Azure\n",
    "\n",
    "This notebook provides an example of accessing MODIS data from blob storage on Azure, including (1) finding the MODIS tile corresponding to a lat/lon coordinate, (2) retrieving that tile from blob storage, and (3) displaying that tile using the [rasterio](https://github.com/mapbox/rasterio) library.  \n",
    "\n",
    "This notebook uses the MODIS surface reflectance product as an example, but data structure and access will be the same for other MODIS product.\n",
    "\n",
    "MODIS data are stored in the East US data center, so this notebook will run most efficiently on Azure compute located in East US.  We recommend that substantial computation depending on MODIS data also be situated in East US.  You don't want to download hundreds of terabytes to your laptop!  If you are using MODIS data for environmental science applications, consider applying for an [AI for Earth grant](http://aka.ms/aiforearth) to support your compute requirements."
   ]
  },
  {
   "cell_type": "markdown",
   "metadata": {},
   "source": [
    "### Imports and environment"
   ]
  },
  {
   "cell_type": "code",
   "execution_count": null,
   "metadata": {},
   "outputs": [],
   "source": [
    "import os\n",
    "import tempfile\n",
    "import numpy as np\n",
    "import shutil\n",
    "import urllib\n",
    "\n",
    "import matplotlib.pyplot as plt\n",
    "import rasterio\n",
    "from azure.storage.blob import BlockBlobService\n",
    "\n",
    "# Storage locations are documented at http://aka.ms/ai4edata-modis\n",
    "modis_blob_root = 'http://modissa.blob.core.windows.net/modis'\n",
    "modis_container_name = 'modis'\n",
    "modis_account_name = 'modissa'\n",
    "\n",
    "modis_temp_path = os.path.join(tempfile.gettempdir(),'modis')\n",
    "os.makedirs(modis_temp_path,exist_ok=True)\n",
    "\n",
    "# This file is provided by NASA; it indicates the lat/lon extents of each\n",
    "# MODIS tile.\n",
    "#\n",
    "# The file originally comes from:\n",
    "#\n",
    "# https://modis-land.gsfc.nasa.gov/pdf/sn_bound_10deg.txt\n",
    "modis_tile_extents_url = modis_blob_root + '/sn_bound_10deg.txt'\n",
    "\n",
    "# Read-only shared access signature (SAS) URL for the MODIS container\n",
    "modis_sas_url = 'st=2019-07-26T17%3A21%3A46Z&se=2029-07-27T17%3A21%3A00Z&sp=rl&sv=2018-03-28&sr=c&sig=1NpBV6P8SIibRcelWZyLCpIh4KFiqEzOipjKU5ZIRrQ%3D'\n",
    "\n",
    "# Load this file into a table, where each row is (v,h,lonmin,lonmax,latmin,latmax)\n",
    "modis_tile_extents = np.genfromtxt(modis_tile_extents_url,\n",
    "                     skip_header = 7, \n",
    "                     skip_footer = 3)\n",
    "\n",
    "modis_blob_service = BlockBlobService(account_name=modis_account_name,sas_token=modis_sas_url)\n",
    "                                \n",
    "%matplotlib inline\n"
   ]
  },
  {
   "cell_type": "markdown",
   "metadata": {},
   "source": [
    "### Functions"
   ]
  },
  {
   "cell_type": "code",
   "execution_count": null,
   "metadata": {},
   "outputs": [],
   "source": [
    "def lat_lon_to_modis_tiles(lat,lon):\n",
    "    \"\"\"\n",
    "    Get the modis tile indices (h,v) for a given lat/lon\n",
    "    \n",
    "    https://www.earthdatascience.org/tutorials/convert-modis-tile-to-lat-lon/\n",
    "    \"\"\"\n",
    "    \n",
    "    found_matching_tile = False\n",
    "    i = 0\n",
    "    while(not found_matching_tile):\n",
    "        found_matching_tile = lat >= modis_tile_extents[i, 4] \\ \n",
    "        and lat <= modis_tile_extents[i, 5] \\\n",
    "        and lon >= modis_tile_extents[i, 2] and lon <= modis_tile_extents[i, 3]\n",
    "        i += 1\n",
    "        \n",
    "    v = int(modis_tile_extents[i-1, 0])\n",
    "    h = int(modis_tile_extents[i-1, 1])\n",
    "    \n",
    "    return h,v\n",
    "\n",
    "\n",
    "def list_blobs_in_folder(container_name,folder_name):\n",
    "    \"\"\"\n",
    "    List all blobs in a virtual folder in an Azure blob container\n",
    "    \"\"\"\n",
    "    \n",
    "    files = []\n",
    "    generator = modis_blob_service.list_blobs(modis_container_name, prefix=folder_name, delimiter=\"\")\n",
    "    for blob in generator:\n",
    "        files.append(blob.name)\n",
    "    return files\n",
    "        \n",
    "    \n",
    "def list_tiff_blobs_in_folder(container_name,folder_name):\n",
    "    \"\"\"\"\n",
    "    List .tiff files in a folder\n",
    "    \"\"\"\n",
    "    \n",
    "    files = list_blobs_in_folder(container_name,folder_name)\n",
    "    files = [fn for fn in files if fn.endswith('.tiff')]\n",
    "    return files\n",
    "             \n",
    "\n",
    "def download_url(url, destination_filename):\n",
    "    \"\"\"\n",
    "    Utility function for downloading a URL to a local file\n",
    "    \"\"\"\n",
    "    \n",
    "    print('Downloading file {}'.format(os.path.basename(url)),end='')\n",
    "    urllib.request.urlretrieve(url, destination_filename)  \n",
    "    assert(os.path.isfile(destination_filename))\n",
    "    nBytes = os.path.getsize(destination_filename)\n",
    "    print('...done, {} bytes.'.format(nBytes))\n",
    "    \n",
    "\n",
    "def download_url_to_temp_file(url):\n",
    "    fn = os.path.join(modis_temp_path,next(tempfile._get_candidate_names()))\n",
    "    download_url(url,fn)\n",
    "    return fn"
   ]
  },
  {
   "cell_type": "markdown",
   "metadata": {},
   "source": [
    "### Access and plot a MODIS tile\n"
   ]
  },
  {
   "cell_type": "code",
   "execution_count": null,
   "metadata": {},
   "outputs": [],
   "source": [
    "# Files are stored according to:\n",
    "#\n",
    "# http://modissa.blob.core.windows.net/[product]/[htile]/[vtile]/[year][day]/filename\n",
    "\n",
    "# Surface reflectance\n",
    "product = 'MCD43A4'\n",
    "\n",
    "# Let's look at the tile containing Chicago, IL, on May 15, 2019 (day of year 135)\n",
    "h,v = lat_lon_to_modis_tiles(41.881832,-87.623177)\n",
    "daynum = '2019135'\n",
    "folder = product + '/' + '{:0>2d}/{:0>2d}'.format(h,v) + '/' + daynum\n",
    "\n",
    "# Find all .tiff files from this tile on this day, one file per channel\n",
    "files = list_tiff_blobs_in_folder(modis_container_name,folder)\n",
    "\n",
    "norm_value = 4000\n",
    "\n",
    "# Channel 7 in a MCD43A4 file corresponds to MODIS band 1.  \n",
    "#\n",
    "# Let's map bands 1, 4, and 3 (channels 7,10,9) to RGB.\n",
    "channels = [7,10,9]\n",
    "image_data = []\n",
    "for ifn in channels:\n",
    "    remote_fn = files[ifn]\n",
    "    url = modis_blob_root + '/' + remote_fn\n",
    "    fn = download_url_to_temp_file(url)\n",
    "    raster = rasterio.open(fn,'r')\n",
    "    band_array = raster.read(1)\n",
    "    raster.close()\n",
    "    band_array = band_array / norm_value\n",
    "    image_data.append(band_array)\n",
    "rgb = np.dstack((image_data[0],image_data[1],image_data[2]))\n",
    "np.clip(rgb,0,1,rgb)\n",
    "plt.imshow(rgb)\n"
   ]
  },
  {
   "cell_type": "markdown",
   "metadata": {},
   "source": [
    "### Clean up temporary files"
   ]
  },
  {
   "cell_type": "code",
   "execution_count": null,
   "metadata": {},
   "outputs": [],
   "source": [
    "shutil.rmtree(modis_temp_path)"
   ]
  }
 ],
 "metadata": {
  "kernelspec": {
   "display_name": "Python 3",
   "language": "python",
   "name": "python3"
  },
  "language_info": {
   "codemirror_mode": {
    "name": "ipython",
    "version": 3
   },
   "file_extension": ".py",
   "mimetype": "text/x-python",
   "name": "python",
   "nbconvert_exporter": "python",
   "pygments_lexer": "ipython3",
   "version": "3.7.3"
  }
 },
 "nbformat": 4,
 "nbformat_minor": 2
}
